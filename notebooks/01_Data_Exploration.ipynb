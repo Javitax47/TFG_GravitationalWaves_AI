{
 "cells": [
  {
   "cell_type": "markdown",
   "metadata": {},
   "source": [
    "# Cuaderno 1: Exploración y Procesamiento de Datos de Ondas Gravitacionales\n",
    "\n",
    "**Objetivo:** Familiarizarse con los datos de ondas gravitacionales (OG) utilizando la librería `gwpy`.\n",
    "\n",
    "En este cuaderno, vamos a realizar los siguientes pasos:\n",
    "1.  Buscar y descargar los datos del primer evento de OG detectado: **GW150914**.\n",
    "2.  Visualizar los datos crudos (\"strain\") para entender el nivel de ruido.\n",
    "3.  Aplicar técnicas básicas de procesamiento de señal (filtrado y blanqueamiento) para limpiar los datos.\n",
    "4.  Generar un espectrograma (Q-transform) para visualizar la característica forma de \"chirp\" de la señal."
   ]
  },
  {
   "cell_type": "code",
   "execution_count": null,
   "metadata": {
    "vscode": {
     "languageId": "plaintext"
    }
   },
   "outputs": [],
   "source": [
    "# --- Paso 1: Importar las librerías necesarias ---\n",
    "import numpy as np\n",
    "import matplotlib.pyplot as plt\n",
    "from gwpy.timeseries import TimeSeries\n",
    "\n",
    "# Configuramos los gráficos para que se vean mejor\n",
    "plt.rcParams.update({'font.size': 14})"
   ]
  },
  {
   "cell_type": "markdown",
   "metadata": {},
   "source": [
    "## 2. Buscar y Descargar Datos del Evento GW150914\n",
    "\n",
    "GW150914 fue la primera observación directa de ondas gravitacionales, resultado de la fusión de dos agujeros negros. La señal fue detectada por los dos observatorios de LIGO: Hanford (H1) y Livingston (L1).\n",
    "\n",
    "Usaremos la función `TimeSeries.fetch_open_data` de `gwpy` para descargar los datos de ambos detectores alrededor del momento del evento. El tiempo en la astronomía de OG se mide en segundos GPS.\n",
    "\n",
    "El tiempo central del evento GW150914 es `1126259462.4`. Vamos a descargar 32 segundos de datos centrados en ese instante."
   ]
  },
  {
   "cell_type": "code",
   "execution_count": null,
   "metadata": {
    "vscode": {
     "languageId": "plaintext"
    }
   },
   "outputs": [],
   "source": [
    "# Tiempo GPS central del evento\n",
    "t_event = 1126259462.4\n",
    "\n",
    "# Descargamos los datos para el detector de Hanford (H1)\n",
    "# Pedimos 32 segundos de datos, desde t_event - 16s hasta t_event + 16s\n",
    "h1_data = TimeSeries.fetch_open_data('H1', t_event - 16, t_event + 16)\n",
    "\n",
    "# Hacemos lo mismo para el detector de Livingston (L1)\n",
    "l1_data = TimeSeries.fetch_open_data('L1', t_event - 16, t_event + 16)\n",
    "\n",
    "print(\"Datos descargados exitosamente:\")\n",
    "print(\"H1:\", h1_data)\n",
    "print(\"L1:\", l1_data)"
   ]
  },
  {
   "cell_type": "markdown",
   "metadata": {},
   "source": [
    "## 3. Visualizar los Datos Crudos (Strain)\n",
    "\n",
    "Ahora vamos a graficar los datos tal y como los miden los detectores. A esta deformación del espacio-tiempo se le llama \"strain\".\n",
    "\n",
    "**Observación importante:** La señal de la onda gravitacional es miles de veces más débil que el ruido instrumental. Por lo tanto, será **completamente invisible** en esta primera gráfica. Este es el desafío fundamental que intentamos resolver con IA."
   ]
  },
  {
   "cell_type": "code",
   "execution_count": null,
   "metadata": {
    "vscode": {
     "languageId": "plaintext"
    }
   },
   "outputs": [],
   "source": [
    "fig, (ax1, ax2) = plt.subplots(2, 1, figsize=(12, 8), sharex=True)\n",
    "\n",
    "ax1.plot(h1_data.times, h1_data.value, color='blue')\n",
    "ax1.set_title(\"LIGO Hanford (H1) - Datos Crudos\")\n",
    "ax1.set_ylabel(\"Strain\")\n",
    "\n",
    "ax2.plot(l1_data.times, l1_data.value, color='green')\n",
    "ax2.set_title(\"LIGO Livingston (L1) - Datos Crudos\")\n",
    "ax2.set_ylabel(\"Strain\")\n",
    "ax2.set_xlabel(\"Tiempo (segundos GPS)\")\n",
    "\n",
    "plt.show()```\n",
    "\n",
    "**(Celda 7: Markdown)**\n",
    "````markdown\n",
    "## 4. Procesamiento de la Señal para Revelar el \"Chirp\"\n",
    "\n",
    "Para poder ver la señal, necesitamos limpiar el ruido. Realizaremos dos pasos clave:\n",
    "\n",
    "1.  **Filtrado de Banda (Band-pass):** Eliminamos las frecuencias muy bajas (ruido sísmico) y muy altas (ruido instrumental) donde no esperamos encontrar la señal. La fusión de agujeros negros como GW150914 emite en un rango aproximado de 30 Hz a 350 Hz.\n",
    "2.  **Blanqueamiento (Whitening):** Esta técnica aplana el espectro de ruido, de modo que el ruido tenga una potencia similar en todas las frecuencias. Esto hace que la señal, que está concentrada en una banda específica, resalte visualmente.\n",
    "\n",
    "Aplicaremos estos pasos y volveremos a graficar los datos."
   ]
  },
  {
   "cell_type": "code",
   "execution_count": null,
   "metadata": {
    "vscode": {
     "languageId": "plaintext"
    }
   },
   "outputs": [],
   "source": [
    "# Hacemos una copia para no modificar los datos originales\n",
    "h1_cleaned = h1_data.copy()\n",
    "l1_cleaned = l1_data.copy()\n",
    "\n",
    "# Aplicamos un filtro de banda entre 30 y 350 Hz\n",
    "h1_cleaned = h1_cleaned.bandpass(30, 350)\n",
    "l1_cleaned = l1_cleaned.bandpass(30, 350)\n",
    "\n",
    "# Aplicamos blanqueamiento\n",
    "h1_cleaned = h1_cleaned.whiten()\n",
    "l1_cleaned = l1_cleaned.whiten()\n",
    "\n",
    "# Graficamos los datos procesados en una ventana de tiempo más pequeña alrededor del evento\n",
    "fig, (ax1, ax2) = plt.subplots(2, 1, figsize=(12, 8), sharex=True)\n",
    "\n",
    "ax1.plot(h1_cleaned.times, h1_cleaned.value, color='blue')\n",
    "ax1.set_title(\"LIGO Hanford (H1) - Datos Procesados\")\n",
    "ax1.set_ylabel(\"Strain (blanqueado)\")\n",
    "ax1.set_xlim(t_event - 0.5, t_event + 0.5) # Zoom alrededor del evento\n",
    "\n",
    "ax2.plot(l1_cleaned.times, l1_cleaned.value, color='green')\n",
    "ax2.set_title(\"LIGO Livingston (L1) - Datos Procesados\")\n",
    "ax2.set_ylabel(\"Strain (blanqueado)\")\n",
    "ax2.set_xlabel(\"Tiempo (segundos GPS)\")\n",
    "\n",
    "plt.show()"
   ]
  },
  {
   "cell_type": "markdown",
   "metadata": {},
   "source": [
    "## 5. El Espectrograma (Q-Transform): La Visualización Definitiva\n",
    "\n",
    "Aunque la señal ahora es visible en la serie temporal, la mejor forma de identificar un \"chirp\" es con un espectrograma, que muestra cómo la **frecuencia de la señal cambia con el tiempo**. Para las ondas gravitacionales, usamos una variante llamada **Q-transform**, que tiene una excelente resolución de tiempo y frecuencia.\n",
    "\n",
    "La gráfica resultante mostrará un patrón claro: una línea curva que aumenta su frecuencia (sube en el eje Y) a medida que se acerca al momento de la fusión. **Este patrón visual es exactamente lo que una Red Neuronal Convolucional (CNN) está diseñada para reconocer.**"
   ]
  },
  {
   "cell_type": "code",
   "execution_count": null,
   "metadata": {
    "vscode": {
     "languageId": "plaintext"
    }
   },
   "outputs": [],
   "source": [
    "# Calculamos y graficamos la Q-transform para los datos de H1 (ya blanqueados)\n",
    "# El blanqueamiento antes de la Q-transform es crucial para obtener una buena visualización\n",
    "q_transform_h1 = h1_cleaned.q_transform(frange=(30, 350), qrange=(10, 14))\n",
    "\n",
    "fig = q_transform_h1.plot(figsize=)\n",
    "ax = fig.gca()\n",
    "ax.set_title(\"Q-Transform de H1 (GW150914)\")\n",
    "ax.set_ylabel(\"Frecuencia (Hz)\")\n",
    "ax.set_yscale('log') # Usamos escala logarítmica en la frecuencia para ver mejor el chirp\n",
    "ax.grid(True)\n",
    "plt.show()"
   ]
  },
  {
   "cell_type": "markdown",
   "metadata": {},
   "source": [
    "### Conclusiones de la Exploración\n",
    "\n",
    "Hemos logrado:\n",
    "- Descargar datos reales de un evento confirmado de ondas gravitacionales.\n",
    "- Comprobar que en su estado crudo, la señal es indistinguible del ruido.\n",
    "- Aplicar técnicas estándar de procesamiento (`bandpass`, `whiten`) para hacer visible la señal.\n",
    "- Generar una visualización de tiempo-frecuencia (Q-transform) que muestra el patrón de \"chirp\" característico.\n",
    "\n",
    "**Próximos Pasos:**\n",
    "Ahora que entendemos cómo se ve una señal, el siguiente objetivo es crear un gran conjunto de datos para entrenar nuestros modelos de IA. Esto implicará:\n",
    "1.  Descargar largos segmentos de ruido puro de los detectores.\n",
    "2.  Generar muchas formas de onda (\"chirps\") simuladas con diferentes parámetros (diferentes masas de agujeros negros, etc.).\n",
    "3.  \"Inyectar\" estas señales simuladas en el ruido real para crear nuestros ejemplos positivos de entrenamiento.\n",
    "4.  Segmentar tanto el ruido puro como el ruido con señales en trozos pequeños, listos para ser consumidos por los modelos de Deep Learning.\n",
    "\n",
    "Este proceso será implementado en los scripts de `src/data_processing/`."
   ]
  }
 ],
 "metadata": {
  "language_info": {
   "name": "python"
  }
 },
 "nbformat": 4,
 "nbformat_minor": 2
}
